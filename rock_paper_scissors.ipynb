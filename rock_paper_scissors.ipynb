{
 "cells": [
  {
   "cell_type": "code",
   "execution_count": 2,
   "id": "2df31472",
   "metadata": {},
   "outputs": [
    {
     "name": "stdout",
     "output_type": "stream",
     "text": [
      "what do you choose? Type 0 for rock, type 1 for paper or type 2 for scissors\n",
      "0\n",
      "\n",
      "    _______\n",
      "---'   ____)\n",
      "      (_____)\n",
      "      (_____)\n",
      "      (____)\n",
      "---.__(___)\n",
      "\n",
      "computer choose:\n",
      "\n",
      "    _______\n",
      "---'   ____)____\n",
      "          ______)\n",
      "          _______)\n",
      "         _______)\n",
      "---.__________)\n",
      "\n",
      "you lose!\n"
     ]
    }
   ],
   "source": [
    "rock = '''\n",
    "    _______\n",
    "---'   ____)\n",
    "      (_____)\n",
    "      (_____)\n",
    "      (____)\n",
    "---.__(___)\n",
    "'''\n",
    "\n",
    "paper = '''\n",
    "    _______\n",
    "---'   ____)____\n",
    "          ______)\n",
    "          _______)\n",
    "         _______)\n",
    "---.__________)\n",
    "'''\n",
    "\n",
    "scissors = '''\n",
    "    _______\n",
    "---'   ____)____\n",
    "          ______)\n",
    "       __________)\n",
    "      (____)\n",
    "---.__(___)\n",
    "'''\n",
    "import random\n",
    "game_images= [rock,paper,scissors]\n",
    "person_choice= int(input(\"what do you choose? Type 0 for rock, type 1 for paper or type 2 for scissors\\n\"))\n",
    "if person_choice>=3 or person_choice<0:\n",
    "  print(\"Invalid number, you lose.\")\n",
    "else:\n",
    "\n",
    "  print(game_images[person_choice])\n",
    "  com_choice= random.randint(0,2)\n",
    "  print(\"computer choose:\")\n",
    "  print(game_images[com_choice])\n",
    "\n",
    "\n",
    "  if person_choice== 0 and com_choice==2:\n",
    "    print(\"you win!\")\n",
    "  elif com_choice==0 and person_choice==2:\n",
    "    print(\"You lose!\")\n",
    "  elif person_choice>com_choice:\n",
    "    print(\"you win!\")\n",
    "  elif com_choice>person_choice:\n",
    "    print(\"you lose!\")\n",
    "  elif person_choice==com_choice:\n",
    "    print(\"It is a draw!\")\n",
    "\n"
   ]
  },
  {
   "cell_type": "code",
   "execution_count": null,
   "id": "7450adda",
   "metadata": {},
   "outputs": [],
   "source": []
  }
 ],
 "metadata": {
  "kernelspec": {
   "display_name": "Python 3",
   "language": "python",
   "name": "python3"
  },
  "language_info": {
   "codemirror_mode": {
    "name": "ipython",
    "version": 3
   },
   "file_extension": ".py",
   "mimetype": "text/x-python",
   "name": "python",
   "nbconvert_exporter": "python",
   "pygments_lexer": "ipython3",
   "version": "3.8.8"
  }
 },
 "nbformat": 4,
 "nbformat_minor": 5
}
